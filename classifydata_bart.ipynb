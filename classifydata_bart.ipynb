{
  "cells": [
    {
      "cell_type": "code",
      "execution_count": null,
      "metadata": {
        "colab": {
          "base_uri": "https://localhost:8080/"
        },
        "id": "Wc8gJJ1VvVdm",
        "outputId": "449545f8-cc39-4d47-ad34-e881d8c86e60"
      },
      "outputs": [
        {
          "name": "stdout",
          "output_type": "stream",
          "text": [
            "Requirement already satisfied: transformers in /usr/local/lib/python3.10/dist-packages (4.30.2)\n",
            "Requirement already satisfied: filelock in /usr/local/lib/python3.10/dist-packages (from transformers) (3.12.2)\n",
            "Requirement already satisfied: huggingface-hub<1.0,>=0.14.1 in /usr/local/lib/python3.10/dist-packages (from transformers) (0.16.2)\n",
            "Requirement already satisfied: numpy>=1.17 in /usr/local/lib/python3.10/dist-packages (from transformers) (1.22.4)\n",
            "Requirement already satisfied: packaging>=20.0 in /usr/local/lib/python3.10/dist-packages (from transformers) (23.1)\n",
            "Requirement already satisfied: pyyaml>=5.1 in /usr/local/lib/python3.10/dist-packages (from transformers) (6.0)\n",
            "Requirement already satisfied: regex!=2019.12.17 in /usr/local/lib/python3.10/dist-packages (from transformers) (2022.10.31)\n",
            "Requirement already satisfied: requests in /usr/local/lib/python3.10/dist-packages (from transformers) (2.27.1)\n",
            "Requirement already satisfied: tokenizers!=0.11.3,<0.14,>=0.11.1 in /usr/local/lib/python3.10/dist-packages (from transformers) (0.13.3)\n",
            "Requirement already satisfied: safetensors>=0.3.1 in /usr/local/lib/python3.10/dist-packages (from transformers) (0.3.1)\n",
            "Requirement already satisfied: tqdm>=4.27 in /usr/local/lib/python3.10/dist-packages (from transformers) (4.65.0)\n",
            "Requirement already satisfied: fsspec in /usr/local/lib/python3.10/dist-packages (from huggingface-hub<1.0,>=0.14.1->transformers) (2023.6.0)\n",
            "Requirement already satisfied: typing-extensions>=3.7.4.3 in /usr/local/lib/python3.10/dist-packages (from huggingface-hub<1.0,>=0.14.1->transformers) (4.6.3)\n",
            "Requirement already satisfied: urllib3<1.27,>=1.21.1 in /usr/local/lib/python3.10/dist-packages (from requests->transformers) (1.26.16)\n",
            "Requirement already satisfied: certifi>=2017.4.17 in /usr/local/lib/python3.10/dist-packages (from requests->transformers) (2023.5.7)\n",
            "Requirement already satisfied: charset-normalizer~=2.0.0 in /usr/local/lib/python3.10/dist-packages (from requests->transformers) (2.0.12)\n",
            "Requirement already satisfied: idna<4,>=2.5 in /usr/local/lib/python3.10/dist-packages (from requests->transformers) (3.4)\n",
            "Requirement already satisfied: transformers in /usr/local/lib/python3.10/dist-packages (4.30.2)\n",
            "Requirement already satisfied: filelock in /usr/local/lib/python3.10/dist-packages (from transformers) (3.12.2)\n",
            "Requirement already satisfied: huggingface-hub<1.0,>=0.14.1 in /usr/local/lib/python3.10/dist-packages (from transformers) (0.16.2)\n",
            "Requirement already satisfied: numpy>=1.17 in /usr/local/lib/python3.10/dist-packages (from transformers) (1.22.4)\n",
            "Requirement already satisfied: packaging>=20.0 in /usr/local/lib/python3.10/dist-packages (from transformers) (23.1)\n",
            "Requirement already satisfied: pyyaml>=5.1 in /usr/local/lib/python3.10/dist-packages (from transformers) (6.0)\n",
            "Requirement already satisfied: regex!=2019.12.17 in /usr/local/lib/python3.10/dist-packages (from transformers) (2022.10.31)\n",
            "Requirement already satisfied: requests in /usr/local/lib/python3.10/dist-packages (from transformers) (2.27.1)\n",
            "Requirement already satisfied: tokenizers!=0.11.3,<0.14,>=0.11.1 in /usr/local/lib/python3.10/dist-packages (from transformers) (0.13.3)\n",
            "Requirement already satisfied: safetensors>=0.3.1 in /usr/local/lib/python3.10/dist-packages (from transformers) (0.3.1)\n",
            "Requirement already satisfied: tqdm>=4.27 in /usr/local/lib/python3.10/dist-packages (from transformers) (4.65.0)\n",
            "Requirement already satisfied: fsspec in /usr/local/lib/python3.10/dist-packages (from huggingface-hub<1.0,>=0.14.1->transformers) (2023.6.0)\n",
            "Requirement already satisfied: typing-extensions>=3.7.4.3 in /usr/local/lib/python3.10/dist-packages (from huggingface-hub<1.0,>=0.14.1->transformers) (4.6.3)\n",
            "Requirement already satisfied: urllib3<1.27,>=1.21.1 in /usr/local/lib/python3.10/dist-packages (from requests->transformers) (1.26.16)\n",
            "Requirement already satisfied: certifi>=2017.4.17 in /usr/local/lib/python3.10/dist-packages (from requests->transformers) (2023.5.7)\n",
            "Requirement already satisfied: charset-normalizer~=2.0.0 in /usr/local/lib/python3.10/dist-packages (from requests->transformers) (2.0.12)\n",
            "Requirement already satisfied: idna<4,>=2.5 in /usr/local/lib/python3.10/dist-packages (from requests->transformers) (3.4)\n"
          ]
        }
      ],
      "source": [
        "!pip install transformers\n",
        "!pip install --upgrade transformers\n",
        "\n",
        "from transformers import BartTokenizer, AutoModelForSequenceClassification\n",
        "import pandas as pd\n",
        "import torch\n",
        "\n",
        "tokenizer = BartTokenizer.from_pretrained('facebook/bart-large-mnli')\n",
        "model = AutoModelForSequenceClassification.from_pretrained('facebook/bart-large-mnli')\n"
      ]
    },
    {
      "cell_type": "code",
      "execution_count": 23,
      "metadata": {
        "id": "fJTyU9-nvVdo"
      },
      "outputs": [],
      "source": [
        "# Add gold labels and pairIDs\n",
        "device = torch.device(\"cuda\" if torch.cuda.is_available() else \"cpu\")\n",
        "gold_labels = pd.read_csv('subset_en.csv', sep='\\t')\n",
        "classified_data = pd.DataFrame(columns=['gold_label', 'English', 'German', 'Spanish', 'Swahili', 'Urdu', 'pairID'])\n",
        "classified_data['gold_label'] = gold_labels['gold_label']\n",
        "classified_data['pairID'] = gold_labels['pairID']\n",
        "labels = {0: 'contradiction', 1: 'neutral', 2: 'entailment'}\n",
        "\n",
        "# Classify English\n",
        "data = gold_labels\n",
        "\n",
        "for index, row in data.iterrows():\n",
        "  #Get needed info\n",
        "  sentence1 = row['sentence1']\n",
        "  sentence2 = row['sentence2']\n",
        "\n",
        "  # Classify\n",
        "  encoded_input = tokenizer.encode_plus(\n",
        "    sentence1,\n",
        "    sentence2,\n",
        "    padding=\"max_length\",\n",
        "    truncation='only_first',\n",
        "    max_length=200,\n",
        "    return_tensors=\"pt\")\n",
        "  raw_output = model(**encoded_input).logits\n",
        "  predicted_label = torch.softmax(raw_output, dim=1).argmax().item()\n",
        "\n",
        "  # Add label to classidied_data\n",
        "  classified_data.at[index, 'English'] = labels[predicted_label]\n"
      ]
    },
    {
      "cell_type": "code",
      "execution_count": null,
      "metadata": {
        "colab": {
          "base_uri": "https://localhost:8080/",
          "height": 395
        },
        "id": "cyGImzo81W0T",
        "outputId": "341bd46e-872b-408d-c7be-d77df4bb3584"
      },
      "outputs": [],
      "source": [
        "# Classify German to English\n",
        "data = pd.read_csv('translated_subset_de.tsv', sep='\\t')\n",
        "\n",
        "for index, row in data.iterrows():\n",
        "  #Get needed info\n",
        "  sentence1 = row['translated_sentence1']\n",
        "  sentence2 = row['translated_sentence2']\n",
        "\n",
        "  # Classify\n",
        "  encoded_input = tokenizer.encode_plus(\n",
        "    sentence1,\n",
        "    sentence2,\n",
        "    padding=\"max_length\",\n",
        "    truncation='only_first',\n",
        "    max_length=200,\n",
        "    return_tensors=\"pt\")\n",
        "  raw_output = model(**encoded_input).logits\n",
        "  predicted_label = torch.softmax(raw_output, dim=1).argmax().item()\n",
        "\n",
        "  # Add label to classidied_data\n",
        "  classified_data.at[index, 'German'] = labels[predicted_label]\n"
      ]
    },
    {
      "cell_type": "code",
      "execution_count": null,
      "metadata": {
        "id": "VzfgzM9j2BRJ"
      },
      "outputs": [],
      "source": [
        "# Classify Spanish to English\n",
        "data = pd.read_csv('translated_subset_es.tsv', sep='\\t')\n",
        "\n",
        "for index, row in data.iterrows():\n",
        "  #Get needed info\n",
        "  sentence1 = row['translated_sentence1']\n",
        "  sentence2 = row['translated_sentence2']\n",
        "\n",
        "  # Classify\n",
        "  encoded_input = tokenizer.encode_plus(\n",
        "    sentence1,\n",
        "    sentence2,\n",
        "    padding=\"max_length\",\n",
        "    truncation='only_first',\n",
        "    max_length=200,\n",
        "    return_tensors=\"pt\")\n",
        "  raw_output = model(**encoded_input).logits\n",
        "  predicted_label = torch.softmax(raw_output, dim=1).argmax().item()\n",
        "\n",
        "  # Add label to classidied_data\n",
        "  classified_data.at[index, 'Spanish'] = labels[predicted_label]"
      ]
    },
    {
      "cell_type": "code",
      "execution_count": null,
      "metadata": {
        "id": "RwEN7IfI3NqC"
      },
      "outputs": [],
      "source": [
        "# Classify Swahili to English\n",
        "data = pd.read_csv('translated_subset_sw.tsv', sep='\\t')\n",
        "\n",
        "for index, row in data.iterrows():\n",
        "  #Get needed info\n",
        "  sentence1 = row['translated_sentence1']\n",
        "  sentence2 = row['translated_sentence2']\n",
        "\n",
        "  # Classify\n",
        "  encoded_input = tokenizer.encode_plus(\n",
        "    sentence1,\n",
        "    sentence2,\n",
        "    padding=\"max_length\",\n",
        "    truncation='only_first',\n",
        "    max_length=200,\n",
        "    return_tensors=\"pt\")\n",
        "  raw_output = model(**encoded_input).logits\n",
        "  predicted_label = torch.softmax(raw_output, dim=1).argmax().item()\n",
        "\n",
        "  # Add label to classidied_data\n",
        "  classified_data.at[index, 'Swahili'] = labels[predicted_label]\n"
      ]
    },
    {
      "cell_type": "code",
      "execution_count": null,
      "metadata": {
        "id": "RrYSpXbp3UQf"
      },
      "outputs": [],
      "source": [
        "# Classify Urdu to English\n",
        "data = pd.read_csv('translated_subset_ur.tsv', sep='\\t')\n",
        "\n",
        "for index, row in data.iterrows():\n",
        "  #Get needed info\n",
        "  sentence1 = row['translated_sentence1']\n",
        "  sentence2 = row['translated_sentence2']\n",
        "\n",
        "  # Classify\n",
        "  encoded_input = tokenizer.encode_plus(\n",
        "    sentence1,\n",
        "    sentence2,\n",
        "    padding=\"max_length\",\n",
        "    truncation='only_first',\n",
        "    max_length=200,\n",
        "    return_tensors=\"pt\")\n",
        "  raw_output = model(**encoded_input).logits\n",
        "  predicted_label = torch.softmax(raw_output, dim=1).argmax().item()\n",
        "\n",
        "  # Add label to classidied_data\n",
        "  classified_data.at[index, 'Urdu'] = labels[predicted_label]\n",
        "\n",
        "# Print translated subsets to file\n",
        "filename = 'bart_classifications.tsv'\n",
        "classified_data.to_csv(filename, sep='\\t', index=False)"
      ]
    }
  ],
  "metadata": {
    "colab": {
      "provenance": []
    },
    "kernelspec": {
      "display_name": "Python 3",
      "name": "python3"
    },
    "language_info": {
      "name": "python"
    },
    "orig_nbformat": 4
  },
  "nbformat": 4,
  "nbformat_minor": 0
}
